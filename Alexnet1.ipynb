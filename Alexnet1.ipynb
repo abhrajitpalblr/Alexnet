{
  "nbformat": 4,
  "nbformat_minor": 0,
  "metadata": {
    "accelerator": "GPU",
    "colab": {
      "name": "Alexnet1.ipynb",
      "provenance": [],
      "collapsed_sections": [],
      "machine_shape": "hm"
    },
    "kernelspec": {
      "display_name": "Python 3",
      "name": "python3"
    },
    "language_info": {
      "name": "python"
    }
  },
  "cells": [
    {
      "cell_type": "code",
      "metadata": {
        "colab": {
          "base_uri": "https://localhost:8080/"
        },
        "id": "gAAxCrdDMJKr",
        "outputId": "d802a468-79fc-4ab3-d268-87a2cb8b4ea3"
      },
      "source": [
        "from google.colab import drive\n",
        "drive.mount('/content/drive')"
      ],
      "execution_count": null,
      "outputs": [
        {
          "output_type": "stream",
          "text": [
            "Drive already mounted at /content/drive; to attempt to forcibly remount, call drive.mount(\"/content/drive\", force_remount=True).\n"
          ],
          "name": "stdout"
        }
      ]
    },
    {
      "cell_type": "code",
      "metadata": {
        "colab": {
          "base_uri": "https://localhost:8080/"
        },
        "id": "Qqu9qGtG0L8T",
        "outputId": "1a427aca-c592-4d56-c6ef-7ec7c465f56e"
      },
      "source": [
        "!nvidia-smi"
      ],
      "execution_count": null,
      "outputs": [
        {
          "output_type": "stream",
          "text": [
            "Sun Jun 13 06:02:56 2021       \n",
            "+-----------------------------------------------------------------------------+\n",
            "| NVIDIA-SMI 465.27       Driver Version: 460.32.03    CUDA Version: 11.2     |\n",
            "|-------------------------------+----------------------+----------------------+\n",
            "| GPU  Name        Persistence-M| Bus-Id        Disp.A | Volatile Uncorr. ECC |\n",
            "| Fan  Temp  Perf  Pwr:Usage/Cap|         Memory-Usage | GPU-Util  Compute M. |\n",
            "|                               |                      |               MIG M. |\n",
            "|===============================+======================+======================|\n",
            "|   0  Tesla P100-PCIE...  Off  | 00000000:00:04.0 Off |                    0 |\n",
            "| N/A   51C    P0    36W / 250W |   4701MiB / 16280MiB |      0%      Default |\n",
            "|                               |                      |                  N/A |\n",
            "+-------------------------------+----------------------+----------------------+\n",
            "                                                                               \n",
            "+-----------------------------------------------------------------------------+\n",
            "| Processes:                                                                  |\n",
            "|  GPU   GI   CI        PID   Type   Process name                  GPU Memory |\n",
            "|        ID   ID                                                   Usage      |\n",
            "|=============================================================================|\n",
            "+-----------------------------------------------------------------------------+\n"
          ],
          "name": "stdout"
        }
      ]
    },
    {
      "cell_type": "code",
      "metadata": {
        "id": "6h-HwWfSMdqM"
      },
      "source": [
        "#import tensorflow as tf\n",
        "import keras\n",
        "from keras.models import Sequential\n",
        "from keras.layers import Dense, Activation, Dropout, Flatten,\\\n",
        " Conv2D, MaxPooling2D\n",
        "from keras.layers.normalization import BatchNormalization\n",
        "from keras.callbacks import ModelCheckpoint, EarlyStopping"
      ],
      "execution_count": 17,
      "outputs": []
    },
    {
      "cell_type": "code",
      "metadata": {
        "colab": {
          "base_uri": "https://localhost:8080/"
        },
        "id": "XuXTlH3-Mdst",
        "outputId": "3a865bbc-ed0d-45a4-fa57-717158718c08"
      },
      "source": [
        "# (3) Create a sequential model\n",
        "model = Sequential()\n",
        "\n",
        "# 1st Convolutional Layer\n",
        "model.add(Conv2D(32, kernel_size=(5, 5), input_shape=(100, 100, 3), activation='relu'))\n",
        "model.add(Activation('relu'))\n",
        "# Pooling \n",
        "model.add(MaxPooling2D(pool_size=(2,2), strides=(2,2), padding='valid'))\n",
        "# Batch Normalisation before passing it to the next layer\n",
        "model.add(BatchNormalization())\n",
        "\n",
        "# 2nd Convolutional Layer\n",
        "model.add(Conv2D(filters=256, kernel_size=(11,11), strides=(1,1), padding='valid'))\n",
        "model.add(Activation('relu'))\n",
        "# Pooling\n",
        "model.add(MaxPooling2D(pool_size=(2,2), strides=(2,2), padding='valid'))\n",
        "# Batch Normalisation\n",
        "model.add(BatchNormalization())\n",
        "\n",
        "# 3rd Convolutional Layer\n",
        "model.add(Conv2D(filters=384, kernel_size=(3,3), strides=(1,1), padding='valid'))\n",
        "model.add(Activation('relu'))\n",
        "# Batch Normalisation\n",
        "model.add(BatchNormalization())\n",
        "\n",
        "# 4th Convolutional Layer\n",
        "model.add(Conv2D(filters=384, kernel_size=(3,3), strides=(1,1), padding='valid'))\n",
        "model.add(Activation('relu'))\n",
        "# Batch Normalisation\n",
        "model.add(BatchNormalization())\n",
        "\n",
        "# 5th Convolutional Layer\n",
        "model.add(Conv2D(filters=256, kernel_size=(3,3), strides=(1,1), padding='valid'))\n",
        "model.add(Activation('relu'))\n",
        "# Pooling\n",
        "model.add(MaxPooling2D(pool_size=(2,2), strides=(2,2), padding='valid'))\n",
        "# Batch Normalisation\n",
        "model.add(BatchNormalization())\n",
        "\n",
        "# Passing it to a dense layer\n",
        "model.add(Flatten())\n",
        "# 1st Dense Layer\n",
        "model.add(Dense(4096, input_shape=(224*224*3,)))\n",
        "model.add(Activation('relu'))\n",
        "# Add Dropout to prevent overfitting\n",
        "model.add(Dropout(0.4))\n",
        "# Batch Normalisation\n",
        "model.add(BatchNormalization())\n",
        "\n",
        "# 2nd Dense Layer\n",
        "model.add(Dense(4096))\n",
        "model.add(Activation('relu'))\n",
        "# Add Dropout\n",
        "model.add(Dropout(0.4))\n",
        "# Batch Normalisation\n",
        "model.add(BatchNormalization())\n",
        "\n",
        "# 3rd Dense Layer\n",
        "model.add(Dense(1000))\n",
        "model.add(Activation('relu'))\n",
        "# Add Dropout\n",
        "model.add(Dropout(0.4))\n",
        "# Batch Normalisation\n",
        "model.add(BatchNormalization())\n",
        "\n",
        "# Output Layer\n",
        "model.add(Dense(1))\n",
        "model.add(Activation('sigmoid'))\n",
        "\n",
        "model.summary()\n",
        "\n",
        "# (4) Compile \n",
        "model.compile(loss='binary_crossentropy', optimizer='adam',\\\n",
        " metrics=['accuracy'])"
      ],
      "execution_count": 18,
      "outputs": [
        {
          "output_type": "stream",
          "text": [
            "Model: \"sequential_3\"\n",
            "_________________________________________________________________\n",
            "Layer (type)                 Output Shape              Param #   \n",
            "=================================================================\n",
            "conv2d_15 (Conv2D)           (None, 96, 96, 32)        2432      \n",
            "_________________________________________________________________\n",
            "activation_27 (Activation)   (None, 96, 96, 32)        0         \n",
            "_________________________________________________________________\n",
            "max_pooling2d_9 (MaxPooling2 (None, 48, 48, 32)        0         \n",
            "_________________________________________________________________\n",
            "batch_normalization_24 (Batc (None, 48, 48, 32)        128       \n",
            "_________________________________________________________________\n",
            "conv2d_16 (Conv2D)           (None, 38, 38, 256)       991488    \n",
            "_________________________________________________________________\n",
            "activation_28 (Activation)   (None, 38, 38, 256)       0         \n",
            "_________________________________________________________________\n",
            "max_pooling2d_10 (MaxPooling (None, 19, 19, 256)       0         \n",
            "_________________________________________________________________\n",
            "batch_normalization_25 (Batc (None, 19, 19, 256)       1024      \n",
            "_________________________________________________________________\n",
            "conv2d_17 (Conv2D)           (None, 17, 17, 384)       885120    \n",
            "_________________________________________________________________\n",
            "activation_29 (Activation)   (None, 17, 17, 384)       0         \n",
            "_________________________________________________________________\n",
            "batch_normalization_26 (Batc (None, 17, 17, 384)       1536      \n",
            "_________________________________________________________________\n",
            "conv2d_18 (Conv2D)           (None, 15, 15, 384)       1327488   \n",
            "_________________________________________________________________\n",
            "activation_30 (Activation)   (None, 15, 15, 384)       0         \n",
            "_________________________________________________________________\n",
            "batch_normalization_27 (Batc (None, 15, 15, 384)       1536      \n",
            "_________________________________________________________________\n",
            "conv2d_19 (Conv2D)           (None, 13, 13, 256)       884992    \n",
            "_________________________________________________________________\n",
            "activation_31 (Activation)   (None, 13, 13, 256)       0         \n",
            "_________________________________________________________________\n",
            "max_pooling2d_11 (MaxPooling (None, 6, 6, 256)         0         \n",
            "_________________________________________________________________\n",
            "batch_normalization_28 (Batc (None, 6, 6, 256)         1024      \n",
            "_________________________________________________________________\n",
            "flatten_3 (Flatten)          (None, 9216)              0         \n",
            "_________________________________________________________________\n",
            "dense_12 (Dense)             (None, 4096)              37752832  \n",
            "_________________________________________________________________\n",
            "activation_32 (Activation)   (None, 4096)              0         \n",
            "_________________________________________________________________\n",
            "dropout_9 (Dropout)          (None, 4096)              0         \n",
            "_________________________________________________________________\n",
            "batch_normalization_29 (Batc (None, 4096)              16384     \n",
            "_________________________________________________________________\n",
            "dense_13 (Dense)             (None, 4096)              16781312  \n",
            "_________________________________________________________________\n",
            "activation_33 (Activation)   (None, 4096)              0         \n",
            "_________________________________________________________________\n",
            "dropout_10 (Dropout)         (None, 4096)              0         \n",
            "_________________________________________________________________\n",
            "batch_normalization_30 (Batc (None, 4096)              16384     \n",
            "_________________________________________________________________\n",
            "dense_14 (Dense)             (None, 1000)              4097000   \n",
            "_________________________________________________________________\n",
            "activation_34 (Activation)   (None, 1000)              0         \n",
            "_________________________________________________________________\n",
            "dropout_11 (Dropout)         (None, 1000)              0         \n",
            "_________________________________________________________________\n",
            "batch_normalization_31 (Batc (None, 1000)              4000      \n",
            "_________________________________________________________________\n",
            "dense_15 (Dense)             (None, 1)                 1001      \n",
            "_________________________________________________________________\n",
            "activation_35 (Activation)   (None, 1)                 0         \n",
            "=================================================================\n",
            "Total params: 62,765,681\n",
            "Trainable params: 62,744,673\n",
            "Non-trainable params: 21,008\n",
            "_________________________________________________________________\n"
          ],
          "name": "stdout"
        }
      ]
    },
    {
      "cell_type": "code",
      "metadata": {
        "colab": {
          "base_uri": "https://localhost:8080/"
        },
        "id": "vvcQ_ckwMdvY",
        "outputId": "a4751c65-eca6-408e-d31c-1b6b7b2549dc"
      },
      "source": [
        "# Part 2 - Fitting the CNN to the images\n",
        "from keras.preprocessing.image import ImageDataGenerator\n",
        "\n",
        "train_datagen = ImageDataGenerator(rescale = 1./255,\n",
        "                                   shear_range = 0.2,\n",
        "                                   zoom_range = 0.2,\n",
        "                                   horizontal_flip=True)\n",
        "test_datagen = ImageDataGenerator(rescale = 1./255)\n",
        "\n",
        "\n",
        "training_set = train_datagen.flow_from_directory('/content/drive/MyDrive/CNN/dataset/training_set',\n",
        "                                                 target_size = (100, 100),\n",
        "                                                 batch_size = 32,\n",
        "                                                 class_mode = 'binary')\n",
        "\n",
        "test_set = test_datagen.flow_from_directory('/content/drive/MyDrive/CNN/dataset/test_set',\n",
        "                                            target_size = (100, 100),\n",
        "                                            batch_size = 32,\n",
        "                                            class_mode = 'binary')\n"
      ],
      "execution_count": 19,
      "outputs": [
        {
          "output_type": "stream",
          "text": [
            "Found 8048 images belonging to 2 classes.\n",
            "Found 2000 images belonging to 2 classes.\n"
          ],
          "name": "stdout"
        }
      ]
    },
    {
      "cell_type": "code",
      "metadata": {
        "id": "WJiNMSqhMdyP"
      },
      "source": [
        "#callback = EarlyStopping(monitor='val_loss', mode='min', verbose=1, patience=2)"
      ],
      "execution_count": null,
      "outputs": []
    },
    {
      "cell_type": "code",
      "metadata": {
        "colab": {
          "base_uri": "https://localhost:8080/"
        },
        "id": "fhLrn1WreZqi",
        "outputId": "587e0317-c631-4f8c-cd8d-b43a60d44968"
      },
      "source": [
        "classifier = model.fit(training_set,\n",
        "                         steps_per_epoch = len(training_set),\n",
        "                         epochs = 25,\n",
        "                         validation_data = test_set,    \n",
        "                         validation_steps = len(test_set))"
      ],
      "execution_count": 20,
      "outputs": [
        {
          "output_type": "stream",
          "text": [
            "Epoch 1/25\n",
            "252/252 [==============================] - 65s 244ms/step - loss: 1.0604 - accuracy: 0.5407 - val_loss: 0.7307 - val_accuracy: 0.5705\n",
            "Epoch 2/25\n",
            "252/252 [==============================] - 60s 236ms/step - loss: 0.6962 - accuracy: 0.6034 - val_loss: 0.7912 - val_accuracy: 0.5370\n",
            "Epoch 3/25\n",
            "252/252 [==============================] - 60s 236ms/step - loss: 0.6799 - accuracy: 0.6081 - val_loss: 0.7186 - val_accuracy: 0.6445\n",
            "Epoch 4/25\n",
            "252/252 [==============================] - 60s 238ms/step - loss: 0.6285 - accuracy: 0.6601 - val_loss: 0.7302 - val_accuracy: 0.5720\n",
            "Epoch 5/25\n",
            "252/252 [==============================] - 59s 236ms/step - loss: 0.5979 - accuracy: 0.6913 - val_loss: 0.6837 - val_accuracy: 0.6405\n",
            "Epoch 6/25\n",
            "252/252 [==============================] - 60s 239ms/step - loss: 0.5686 - accuracy: 0.7093 - val_loss: 0.6171 - val_accuracy: 0.6860\n",
            "Epoch 7/25\n",
            "252/252 [==============================] - 60s 238ms/step - loss: 0.5238 - accuracy: 0.7436 - val_loss: 0.6135 - val_accuracy: 0.6450\n",
            "Epoch 8/25\n",
            "252/252 [==============================] - 60s 238ms/step - loss: 0.5084 - accuracy: 0.7564 - val_loss: 0.9352 - val_accuracy: 0.6195\n",
            "Epoch 9/25\n",
            "252/252 [==============================] - 60s 238ms/step - loss: 0.4754 - accuracy: 0.7670 - val_loss: 0.5309 - val_accuracy: 0.7440\n",
            "Epoch 10/25\n",
            "252/252 [==============================] - 60s 237ms/step - loss: 0.4426 - accuracy: 0.7936 - val_loss: 0.5133 - val_accuracy: 0.7520\n",
            "Epoch 11/25\n",
            "252/252 [==============================] - 60s 239ms/step - loss: 0.4129 - accuracy: 0.8172 - val_loss: 0.7138 - val_accuracy: 0.7155\n",
            "Epoch 12/25\n",
            "252/252 [==============================] - 60s 238ms/step - loss: 0.3988 - accuracy: 0.8177 - val_loss: 0.8139 - val_accuracy: 0.6700\n",
            "Epoch 13/25\n",
            "252/252 [==============================] - 60s 238ms/step - loss: 0.3775 - accuracy: 0.8245 - val_loss: 0.7089 - val_accuracy: 0.6570\n",
            "Epoch 14/25\n",
            "252/252 [==============================] - 60s 239ms/step - loss: 0.3665 - accuracy: 0.8362 - val_loss: 0.3948 - val_accuracy: 0.8260\n",
            "Epoch 15/25\n",
            "252/252 [==============================] - 60s 239ms/step - loss: 0.3368 - accuracy: 0.8539 - val_loss: 0.4428 - val_accuracy: 0.7865\n",
            "Epoch 16/25\n",
            "252/252 [==============================] - 60s 239ms/step - loss: 0.3081 - accuracy: 0.8692 - val_loss: 0.4433 - val_accuracy: 0.7965\n",
            "Epoch 17/25\n",
            "252/252 [==============================] - 60s 238ms/step - loss: 0.3070 - accuracy: 0.8685 - val_loss: 0.3280 - val_accuracy: 0.8630\n",
            "Epoch 18/25\n",
            "252/252 [==============================] - 60s 238ms/step - loss: 0.2818 - accuracy: 0.8760 - val_loss: 0.3659 - val_accuracy: 0.8410\n",
            "Epoch 19/25\n",
            "252/252 [==============================] - 60s 238ms/step - loss: 0.2727 - accuracy: 0.8898 - val_loss: 0.3295 - val_accuracy: 0.8570\n",
            "Epoch 20/25\n",
            "252/252 [==============================] - 60s 238ms/step - loss: 0.2585 - accuracy: 0.8867 - val_loss: 0.3496 - val_accuracy: 0.8555\n",
            "Epoch 21/25\n",
            "252/252 [==============================] - 60s 239ms/step - loss: 0.2442 - accuracy: 0.8934 - val_loss: 0.3370 - val_accuracy: 0.8580\n",
            "Epoch 22/25\n",
            "252/252 [==============================] - 60s 238ms/step - loss: 0.2425 - accuracy: 0.8984 - val_loss: 0.9062 - val_accuracy: 0.7275\n",
            "Epoch 23/25\n",
            "252/252 [==============================] - 60s 239ms/step - loss: 0.2319 - accuracy: 0.9053 - val_loss: 0.3031 - val_accuracy: 0.8670\n",
            "Epoch 24/25\n",
            "252/252 [==============================] - 60s 238ms/step - loss: 0.2211 - accuracy: 0.9079 - val_loss: 0.4107 - val_accuracy: 0.8235\n",
            "Epoch 25/25\n",
            "252/252 [==============================] - 60s 239ms/step - loss: 0.2122 - accuracy: 0.9069 - val_loss: 0.3690 - val_accuracy: 0.8200\n"
          ],
          "name": "stdout"
        }
      ]
    },
    {
      "cell_type": "code",
      "metadata": {
        "colab": {
          "base_uri": "https://localhost:8080/"
        },
        "id": "e8SaOxxPMd3m",
        "outputId": "793d7eb4-6a09-4b87-ac40-64f10d4308b1"
      },
      "source": [
        "model.save(\"Alexnet.h5\")\n",
        "print(\"Saved model to disk\")"
      ],
      "execution_count": 21,
      "outputs": [
        {
          "output_type": "stream",
          "text": [
            "Saved model to disk\n"
          ],
          "name": "stdout"
        }
      ]
    },
    {
      "cell_type": "code",
      "metadata": {
        "id": "MNj2KlifMd6f"
      },
      "source": [
        "import numpy as np\n",
        "from keras.models import load_model\n",
        "from keras.preprocessing import image"
      ],
      "execution_count": 22,
      "outputs": []
    },
    {
      "cell_type": "code",
      "metadata": {
        "id": "AHxitVIcMeLC"
      },
      "source": [
        "# load model\n",
        "model_load = load_model('Alexnet.h5')"
      ],
      "execution_count": 23,
      "outputs": []
    },
    {
      "cell_type": "code",
      "metadata": {
        "colab": {
          "base_uri": "https://localhost:8080/"
        },
        "id": "eH-y6pszMeMj",
        "outputId": "06e9d32b-714a-48e7-a4c3-77710e384a3c"
      },
      "source": [
        "test_image = image.load_img('/content/drive/MyDrive/CNN/dataset/single_prediction/cat_or_dog_5.jpg', target_size = (100, 100))\n",
        "test_image = image.img_to_array(test_image)\n",
        "test_image = np.expand_dims(test_image, axis = 0)\n",
        "result = model_load.predict(test_image)\n",
        "training_set.class_indices\n",
        "if result[0][0] == 1:\n",
        "    prediction = 'dog'\n",
        "else:\n",
        "    prediction = 'cat'\n",
        "print(prediction)"
      ],
      "execution_count": 32,
      "outputs": [
        {
          "output_type": "stream",
          "text": [
            "cat\n"
          ],
          "name": "stdout"
        }
      ]
    }
  ]
}